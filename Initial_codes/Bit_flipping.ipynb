{
  "nbformat": 4,
  "nbformat_minor": 0,
  "metadata": {
    "colab": {
      "provenance": []
    },
    "kernelspec": {
      "name": "python3",
      "display_name": "Python 3"
    },
    "language_info": {
      "name": "python"
    }
  },
  "cells": [
    {
      "cell_type": "markdown",
      "source": [
        "# Importing packages"
      ],
      "metadata": {
        "id": "XqKxOv2dduOM"
      }
    },
    {
      "cell_type": "code",
      "execution_count": 8,
      "metadata": {
        "id": "iU-Qwp_9aVzh"
      },
      "outputs": [],
      "source": [
        "import numpy as np\n",
        "from scipy import sparse as sp\n",
        "import scipy.sparse.linalg"
      ]
    },
    {
      "cell_type": "markdown",
      "source": [
        "# Gallager A algorithm"
      ],
      "metadata": {
        "id": "W7lkYvmxeC5Z"
      }
    },
    {
      "cell_type": "code",
      "source": [
        "def gallagerA(H, err_codeword, n_iter):\n",
        "  \"\"\"\n",
        "  Parameters:\n",
        "  H: parity check matrix (sparse matrix)\n",
        "  err_codeword: transmitted codeword\n",
        "  n_iter: number of iterations\n",
        "  Returns\n",
        "  Corrected code if found within the given number of iterations, n_iter;\n",
        "  along with the iteration step it was found.\n",
        "  \"\"\"\n",
        "  # H = sp.csr_matrix(H)\n",
        "  corrected_codeword = err_codeword\n",
        "  for i in range(n_iter):\n",
        "    syndrome = H.dot(corrected_codeword) % 2\n",
        "    if np.sum(syndrome) == 0:\n",
        "      return corrected_codeword, i\n",
        "    incorrect_checknodes = []\n",
        "    for i in syndrome:\n",
        "      incorrect_checknodes.append(i)\n",
        "    print(incorrect_checknodes)\n",
        "    print(len(incorrect_checknodes))\n",
        "    for j in range(len(incorrect_checknodes)):\n",
        "      if incorrect_checknodes[j] == 1:\n",
        "        corrected_codeword[j] = 1 - corrected_codeword[j]\n",
        "  return corrected_codeword, n_iter\n",
        "\n",
        "if __name__ == \"__main__\":\n",
        "    H = np.array([\n",
        "        [1, 1, 0, 1, 0, 0],\n",
        "        [0, 1, 1, 0, 1, 0],\n",
        "        [1, 0, 0, 0, 1, 1],\n",
        "        [0, 0, 1, 1, 0, 1]\n",
        "    ])\n",
        "\n",
        "    original_codeword = np.array([1, 0, 1, 0, 1, 0])\n",
        "    error_pattern = np.array([0, 1, 0, 0, 0, 0])\n",
        "    received_codeword = (original_codeword + error_pattern)%2\n",
        "\n",
        "    print(\"Original Codeword:\", original_codeword)\n",
        "    print(\"Received Codeword:\", received_codeword)\n",
        "\n",
        "    decoded_codeword, iterations = gallagerA(H, received_codeword, 100)\n",
        "\n",
        "    print(\"Decoded Codeword:\", decoded_codeword)\n",
        "    print(\"Iterations:\", iterations)\n",
        "\n",
        "    # print(H.dot(decoded_codeword) % 2)"
      ],
      "metadata": {
        "colab": {
          "base_uri": "https://localhost:8080/"
        },
        "id": "3vRormhJd9OO",
        "outputId": "299c78cf-51d2-4ab1-9eb0-f306c03143bf"
      },
      "execution_count": 29,
      "outputs": [
        {
          "output_type": "stream",
          "name": "stdout",
          "text": [
            "Original Codeword: [1 0 1 0 1 0]\n",
            "Received Codeword: [1 1 1 0 1 0]\n",
            "[0, 1, 0, 1]\n",
            "4\n",
            "Decoded Codeword: [1 0 1 1 1 0]\n",
            "Iterations: 1\n"
          ]
        }
      ]
    }
  ]
}
